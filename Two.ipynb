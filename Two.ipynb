{
 "cells": [
  {
   "cell_type": "code",
   "execution_count": 25,
   "metadata": {},
   "outputs": [],
   "source": [
    "import os, datetime\n",
    "import shutil\n",
    "\n",
    "## print('Enter the keyword of the files you want to copy: ', end = '')\n",
    "## keyword = input()\n",
    "\n",
    "## print('Enter the general location of where the files is store: ', end = '')\n",
    "## path = input()\n",
    "source_folder = r\"\\\\unfcu.int\\userdata\\users\\richie.zhou\\Internship\\VSCode\\Python\\Project Two\"\n",
    "dst_folder = r\"\\\\unfcu.int\\userdata\\users\\richie.zhou\\Internship\\VSCode\\Python\\Project Two\\try\"\n",
    "keyword = 'Apple'\n",
    "\n",
    "## print('Enter the location to where you would like to store you files: ', end = '')\n",
    "## location = input()"
   ]
  },
  {
   "cell_type": "code",
   "execution_count": 28,
   "metadata": {},
   "outputs": [
    {
     "ename": "SameFileError",
     "evalue": "'\\\\\\\\unfcu.int\\\\userdata\\\\users\\\\richie.zhou\\\\Internship\\\\VSCode\\\\Python\\\\Project Two\\\\try\\\\A360 - Emergency Release.pptx' and '\\\\\\\\unfcu.int\\\\userdata\\\\users\\\\richie.zhou\\\\Internship\\\\VSCode\\\\Python\\\\Project Two\\\\try\\\\A360 - Emergency Release.pptx' are the same file",
     "output_type": "error",
     "traceback": [
      "\u001b[1;31m---------------------------------------------------------------------------\u001b[0m",
      "\u001b[1;31mSameFileError\u001b[0m                             Traceback (most recent call last)",
      "\u001b[1;32muserdata\\users\\richie.zhou\\Internship\\VSCode\\Python\\Project Two\\Two.ipynb Cell 2\u001b[0m in \u001b[0;36m<cell line: 1>\u001b[1;34m()\u001b[0m\n\u001b[0;32m      <a href='vscode-notebook-cell://unfcu.int/userdata/users/richie.zhou/Internship/VSCode/Python/Project%20Two/Two.ipynb#ch0000001?line=3'>4</a>\u001b[0m filetime \u001b[39m=\u001b[39m datetime\u001b[39m.\u001b[39mdatetime\u001b[39m.\u001b[39mfromtimestamp(os\u001b[39m.\u001b[39mpath\u001b[39m.\u001b[39mgetmtime(os\u001b[39m.\u001b[39mpath\u001b[39m.\u001b[39mjoin(path, name)))\n\u001b[0;32m      <a href='vscode-notebook-cell://unfcu.int/userdata/users/richie.zhou/Internship/VSCode/Python/Project%20Two/Two.ipynb#ch0000001?line=4'>5</a>\u001b[0m \u001b[39m##print(os.path.join(path, name))\u001b[39;00m\n\u001b[0;32m      <a href='vscode-notebook-cell://unfcu.int/userdata/users/richie.zhou/Internship/VSCode/Python/Project%20Two/Two.ipynb#ch0000001?line=5'>6</a>\u001b[0m \u001b[39m##print(filetime)\u001b[39;00m\n\u001b[1;32m----> <a href='vscode-notebook-cell://unfcu.int/userdata/users/richie.zhou/Internship/VSCode/Python/Project%20Two/Two.ipynb#ch0000001?line=6'>7</a>\u001b[0m new_location \u001b[39m=\u001b[39m shutil\u001b[39m.\u001b[39;49mcopy(os\u001b[39m.\u001b[39;49mpath\u001b[39m.\u001b[39;49mjoin(path, name), dst_folder)\n",
      "File \u001b[1;32mc:\\Users\\richie.zhou\\Anaconda3\\lib\\shutil.py:427\u001b[0m, in \u001b[0;36mcopy\u001b[1;34m(src, dst, follow_symlinks)\u001b[0m\n\u001b[0;32m    425\u001b[0m \u001b[39mif\u001b[39;00m os\u001b[39m.\u001b[39mpath\u001b[39m.\u001b[39misdir(dst):\n\u001b[0;32m    426\u001b[0m     dst \u001b[39m=\u001b[39m os\u001b[39m.\u001b[39mpath\u001b[39m.\u001b[39mjoin(dst, os\u001b[39m.\u001b[39mpath\u001b[39m.\u001b[39mbasename(src))\n\u001b[1;32m--> 427\u001b[0m copyfile(src, dst, follow_symlinks\u001b[39m=\u001b[39;49mfollow_symlinks)\n\u001b[0;32m    428\u001b[0m copymode(src, dst, follow_symlinks\u001b[39m=\u001b[39mfollow_symlinks)\n\u001b[0;32m    429\u001b[0m \u001b[39mreturn\u001b[39;00m dst\n",
      "File \u001b[1;32mc:\\Users\\richie.zhou\\Anaconda3\\lib\\shutil.py:244\u001b[0m, in \u001b[0;36mcopyfile\u001b[1;34m(src, dst, follow_symlinks)\u001b[0m\n\u001b[0;32m    241\u001b[0m sys\u001b[39m.\u001b[39maudit(\u001b[39m\"\u001b[39m\u001b[39mshutil.copyfile\u001b[39m\u001b[39m\"\u001b[39m, src, dst)\n\u001b[0;32m    243\u001b[0m \u001b[39mif\u001b[39;00m _samefile(src, dst):\n\u001b[1;32m--> 244\u001b[0m     \u001b[39mraise\u001b[39;00m SameFileError(\u001b[39m\"\u001b[39m\u001b[39m{!r}\u001b[39;00m\u001b[39m and \u001b[39m\u001b[39m{!r}\u001b[39;00m\u001b[39m are the same file\u001b[39m\u001b[39m\"\u001b[39m\u001b[39m.\u001b[39mformat(src, dst))\n\u001b[0;32m    246\u001b[0m file_size \u001b[39m=\u001b[39m \u001b[39m0\u001b[39m\n\u001b[0;32m    247\u001b[0m \u001b[39mfor\u001b[39;00m i, fn \u001b[39min\u001b[39;00m \u001b[39menumerate\u001b[39m([src, dst]):\n",
      "\u001b[1;31mSameFileError\u001b[0m: '\\\\\\\\unfcu.int\\\\userdata\\\\users\\\\richie.zhou\\\\Internship\\\\VSCode\\\\Python\\\\Project Two\\\\try\\\\A360 - Emergency Release.pptx' and '\\\\\\\\unfcu.int\\\\userdata\\\\users\\\\richie.zhou\\\\Internship\\\\VSCode\\\\Python\\\\Project Two\\\\try\\\\A360 - Emergency Release.pptx' are the same file"
     ]
    }
   ],
   "source": [
    "for path, subdirs, files in os.walk(source_folder):\n",
    "    for name in files:\n",
    "        if(name.startswith('A360') & name.endswith(\".pptx\")):\n",
    "            filetime = datetime.datetime.fromtimestamp(os.path.getmtime(os.path.join(path, name)))\n",
    "            ##print(os.path.join(path, name))\n",
    "            ##print(filetime)\n",
    "            new_location = shutil.copy(os.path.join(path, name), dst_folder)\n",
    "            \n",
    "            ##os.rename(new_location, dst_folder + '\\\\' + keyword + '.pptx')"
   ]
  }
 ],
 "metadata": {
  "kernelspec": {
   "display_name": "Python 3.9.12 ('base')",
   "language": "python",
   "name": "python3"
  },
  "language_info": {
   "codemirror_mode": {
    "name": "ipython",
    "version": 3
   },
   "file_extension": ".py",
   "mimetype": "text/x-python",
   "name": "python",
   "nbconvert_exporter": "python",
   "pygments_lexer": "ipython3",
   "version": "3.9.12"
  },
  "orig_nbformat": 4,
  "vscode": {
   "interpreter": {
    "hash": "61c6fccaff9ba96758b0d8369cf824fafbc2c052120b5672d2b64dfd5cb57a0a"
   }
  }
 },
 "nbformat": 4,
 "nbformat_minor": 2
}
